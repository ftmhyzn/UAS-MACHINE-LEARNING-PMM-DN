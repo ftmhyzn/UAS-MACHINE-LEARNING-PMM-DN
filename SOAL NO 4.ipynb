{
 "cells": [
  {
   "cell_type": "markdown",
   "metadata": {},
   "source": [
    "## Soal Nomor 4"
   ]
  },
  {
   "cell_type": "code",
   "execution_count": 2,
   "metadata": {},
   "outputs": [],
   "source": [
    "corpus = [\n",
    "    'Weakness of Indonesian Economice',\n",
    "    \n",
    "    'Chamber of Indonesia Commerce and Industry (Kadin) declared Indonesian economy that is actually very promising for both domestic and foreign investors. However, there are still weaknesses seeing by Kadin of th economy that need to be addressed. Vice Chairman if Kadin Indonesia, Novian Anindya Baktie said, promising Indonesian economy is evidenced by incoming investment, private consumption, and vibrant business world.',\n",
    "    \n",
    "    '“But there are still someone weaknesses that Indonesia’s economic structure needs to be addressed now,” said Anindya at Menara Kadin Jakarta, Wednesday (06/03/2013).',\n",
    "    \n",
    "    'Anindya see Indonesia’s economic weakness is in the trade deficit. Currently due to larger imports than exports then it makes more Indonesian trade balance to be deficit. Moreover, the largest import of oil and gas.',\n",
    "    \n",
    "    'On the other hand, Anindya also highlights subsidy of oil (BBM) to the people who actually are not even on target. Current budget fuel subsidy enjoyed by the rich instead.',\n",
    "    \n",
    "    '“As the impact, the deficit and the high pressure gas imports that led to the weakening of the rupiah”, he added.',\n",
    "    \n",
    "    'Again , the actual budget for infrastructure even neglected. He rated in the last few months that there is no improvement of government policy so that a problem cannor be resolved. Though foreign investors intending to invest in Indonesia as it will look up the bureaaucratic infrastructure. If not good, then foreign investors will put out of Indonesia. '\n",
    "]\n"
   ]
  },
  {
   "cell_type": "code",
   "execution_count": 3,
   "metadata": {},
   "outputs": [
    {
     "data": {
      "text/plain": [
       "['Weakness of Indonesian Economice',\n",
       " 'Chamber of Indonesia Commerce and Industry (Kadin) declared Indonesian economy that is actually very promising for both domestic and foreign investors. However, there are still weaknesses seeing by Kadin of th economy that need to be addressed. Vice Chairman if Kadin Indonesia, Novian Anindya Baktie said, promising Indonesian economy is evidenced by incoming investment, private consumption, and vibrant business world.',\n",
       " '“But there are still someone weaknesses that Indonesia’s economic structure needs to be addressed now,” said Anindya at Menara Kadin Jakarta, Wednesday (06/03/2013).',\n",
       " 'Anindya see Indonesia’s economic weakness is in the trade deficit. Currently due to larger imports than exports then it makes more Indonesian trade balance to be deficit. Moreover, the largest import of oil and gas.',\n",
       " 'On the other hand, Anindya also highlights subsidy of oil (BBM) to the people who actually are not even on target. Current budget fuel subsidy enjoyed by the rich instead.',\n",
       " '“As the impact, the deficit and the high pressure gas imports that led to the weakening of the rupiah”, he added.',\n",
       " 'Again , the actual budget for infrastructure even neglected. He rated in the last few months that there is no improvement of government policy so that a problem cannor be resolved. Though foreign investors intending to invest in Indonesia as it will look up the bureaaucratic infrastructure. If not good, then foreign investors will put out of Indonesia. ']"
      ]
     },
     "execution_count": 3,
     "metadata": {},
     "output_type": "execute_result"
    }
   ],
   "source": [
    "corpus"
   ]
  },
  {
   "cell_type": "code",
   "execution_count": 4,
   "metadata": {},
   "outputs": [
    {
     "data": {
      "text/plain": [
       "matrix([[0, 0, 0, 0, 0, 0, 0, 0, 0, 0, 0, 0, 0, 0, 0, 0, 0, 0, 0, 0, 0,\n",
       "         0, 0, 0, 0, 1, 0, 0, 0, 0, 0, 0, 0, 0, 0, 0, 0, 0, 0, 0, 0, 0,\n",
       "         0, 0, 1, 0, 0, 0, 0, 0, 0, 0, 0, 0, 0, 0, 0, 0, 0, 0, 0, 0, 0,\n",
       "         0, 0, 0, 0, 0, 0, 0, 0, 0, 0, 0, 0, 0, 0, 0, 0, 0, 0, 0, 0, 0,\n",
       "         0, 0, 1, 0, 0, 0],\n",
       "        [0, 0, 0, 0, 1, 0, 1, 1, 1, 0, 0, 0, 0, 1, 0, 1, 1, 1, 1, 0, 0,\n",
       "         1, 0, 1, 0, 0, 3, 0, 1, 0, 1, 0, 0, 0, 0, 0, 0, 0, 0, 0, 0, 0,\n",
       "         1, 2, 2, 1, 0, 0, 0, 0, 1, 1, 0, 3, 0, 0, 0, 0, 0, 0, 0, 1, 0,\n",
       "         0, 1, 0, 0, 0, 0, 1, 0, 2, 0, 0, 0, 0, 1, 1, 0, 0, 0, 1, 0, 1,\n",
       "         1, 0, 0, 1, 0, 1],\n",
       "        [1, 1, 1, 0, 0, 0, 1, 1, 0, 0, 0, 0, 0, 0, 0, 0, 0, 0, 0, 0, 0,\n",
       "         0, 0, 0, 1, 0, 0, 0, 0, 0, 0, 0, 0, 0, 0, 0, 0, 0, 0, 0, 0, 0,\n",
       "         0, 1, 0, 0, 0, 0, 0, 0, 0, 0, 1, 1, 0, 0, 0, 0, 0, 1, 0, 0, 1,\n",
       "         0, 0, 0, 0, 0, 0, 0, 0, 0, 0, 0, 0, 0, 1, 0, 1, 0, 0, 0, 0, 0,\n",
       "         0, 0, 0, 1, 1, 0],\n",
       "        [0, 0, 0, 0, 0, 0, 0, 1, 0, 1, 0, 0, 0, 0, 0, 0, 0, 0, 0, 0, 1,\n",
       "         0, 2, 0, 1, 0, 0, 0, 0, 1, 0, 0, 1, 0, 0, 0, 0, 0, 0, 1, 1, 0,\n",
       "         0, 1, 1, 0, 0, 0, 0, 0, 0, 0, 0, 0, 1, 1, 0, 0, 1, 0, 0, 0, 0,\n",
       "         0, 0, 1, 0, 0, 0, 0, 0, 0, 0, 0, 0, 0, 0, 0, 0, 0, 0, 0, 2, 0,\n",
       "         0, 0, 1, 0, 0, 0],\n",
       "        [0, 0, 0, 0, 1, 0, 0, 1, 0, 0, 1, 1, 0, 0, 0, 0, 0, 0, 0, 1, 0,\n",
       "         0, 0, 0, 0, 0, 0, 1, 0, 0, 0, 1, 0, 0, 0, 1, 0, 1, 0, 0, 0, 0,\n",
       "         0, 0, 0, 0, 0, 1, 0, 0, 0, 0, 0, 0, 0, 0, 0, 0, 0, 0, 0, 0, 0,\n",
       "         0, 0, 1, 1, 0, 0, 0, 0, 0, 0, 0, 1, 0, 0, 0, 0, 2, 1, 0, 0, 0,\n",
       "         0, 0, 0, 0, 0, 0],\n",
       "        [0, 0, 0, 0, 0, 1, 0, 0, 0, 0, 0, 0, 0, 0, 0, 0, 0, 0, 0, 0, 0,\n",
       "         0, 1, 0, 0, 0, 0, 0, 0, 0, 0, 0, 1, 0, 0, 0, 1, 0, 1, 0, 1, 0,\n",
       "         0, 0, 0, 0, 0, 0, 0, 0, 0, 0, 0, 0, 0, 0, 1, 0, 0, 0, 0, 0, 0,\n",
       "         0, 0, 0, 0, 0, 1, 0, 0, 0, 0, 0, 0, 1, 0, 0, 0, 0, 0, 0, 0, 0,\n",
       "         0, 1, 0, 0, 0, 0],\n",
       "        [0, 0, 0, 1, 0, 0, 0, 0, 0, 0, 0, 1, 1, 0, 1, 0, 0, 0, 0, 0, 0,\n",
       "         0, 0, 0, 0, 0, 0, 0, 0, 0, 2, 0, 0, 1, 1, 0, 0, 0, 0, 0, 0, 1,\n",
       "         0, 2, 0, 0, 2, 0, 1, 1, 0, 2, 0, 0, 0, 0, 0, 1, 0, 0, 1, 0, 0,\n",
       "         1, 0, 0, 0, 1, 0, 0, 1, 0, 1, 1, 0, 0, 0, 0, 0, 0, 0, 0, 0, 0,\n",
       "         0, 0, 0, 0, 0, 0]], dtype=int64)"
      ]
     },
     "execution_count": 4,
     "metadata": {},
     "output_type": "execute_result"
    }
   ],
   "source": [
    "from sklearn.feature_extraction.text import CountVectorizer\n",
    "\n",
    "vectorizer = CountVectorizer(stop_words = 'english')\n",
    "vectorizer_X = vectorizer.fit_transform(corpus).todense()\n",
    "vectorizer_X"
   ]
  },
  {
   "cell_type": "code",
   "execution_count": 5,
   "metadata": {},
   "outputs": [
    {
     "data": {
      "text/plain": [
       "['03',\n",
       " '06',\n",
       " '2013',\n",
       " 'actual',\n",
       " 'actually',\n",
       " 'added',\n",
       " 'addressed',\n",
       " 'anindya',\n",
       " 'baktie',\n",
       " 'balance',\n",
       " 'bbm',\n",
       " 'budget',\n",
       " 'bureaaucratic',\n",
       " 'business',\n",
       " 'cannor',\n",
       " 'chairman',\n",
       " 'chamber',\n",
       " 'commerce',\n",
       " 'consumption',\n",
       " 'current',\n",
       " 'currently',\n",
       " 'declared',\n",
       " 'deficit',\n",
       " 'domestic',\n",
       " 'economic',\n",
       " 'economice',\n",
       " 'economy',\n",
       " 'enjoyed',\n",
       " 'evidenced',\n",
       " 'exports',\n",
       " 'foreign',\n",
       " 'fuel',\n",
       " 'gas',\n",
       " 'good',\n",
       " 'government',\n",
       " 'hand',\n",
       " 'high',\n",
       " 'highlights',\n",
       " 'impact',\n",
       " 'import',\n",
       " 'imports',\n",
       " 'improvement',\n",
       " 'incoming',\n",
       " 'indonesia',\n",
       " 'indonesian',\n",
       " 'industry',\n",
       " 'infrastructure',\n",
       " 'instead',\n",
       " 'intending',\n",
       " 'invest',\n",
       " 'investment',\n",
       " 'investors',\n",
       " 'jakarta',\n",
       " 'kadin',\n",
       " 'larger',\n",
       " 'largest',\n",
       " 'led',\n",
       " 'look',\n",
       " 'makes',\n",
       " 'menara',\n",
       " 'months',\n",
       " 'need',\n",
       " 'needs',\n",
       " 'neglected',\n",
       " 'novian',\n",
       " 'oil',\n",
       " 'people',\n",
       " 'policy',\n",
       " 'pressure',\n",
       " 'private',\n",
       " 'problem',\n",
       " 'promising',\n",
       " 'rated',\n",
       " 'resolved',\n",
       " 'rich',\n",
       " 'rupiah',\n",
       " 'said',\n",
       " 'seeing',\n",
       " 'structure',\n",
       " 'subsidy',\n",
       " 'target',\n",
       " 'th',\n",
       " 'trade',\n",
       " 'vibrant',\n",
       " 'vice',\n",
       " 'weakening',\n",
       " 'weakness',\n",
       " 'weaknesses',\n",
       " 'wednesday',\n",
       " 'world']"
      ]
     },
     "execution_count": 5,
     "metadata": {},
     "output_type": "execute_result"
    }
   ],
   "source": [
    "vectorizer.get_feature_names()"
   ]
  },
  {
   "cell_type": "markdown",
   "metadata": {},
   "source": [
    "## Result\n",
    "Setelah artikel berjudul Weakness of Indonesian Economic diolah menggunakan text processing dengan menggunakan stop word filtering didapatkan dataset sebanyak 90"
   ]
  }
 ],
 "metadata": {
  "kernelspec": {
   "display_name": "Python 3",
   "language": "python",
   "name": "python3"
  },
  "language_info": {
   "codemirror_mode": {
    "name": "ipython",
    "version": 3
   },
   "file_extension": ".py",
   "mimetype": "text/x-python",
   "name": "python",
   "nbconvert_exporter": "python",
   "pygments_lexer": "ipython3",
   "version": "3.7.9"
  }
 },
 "nbformat": 4,
 "nbformat_minor": 4
}
