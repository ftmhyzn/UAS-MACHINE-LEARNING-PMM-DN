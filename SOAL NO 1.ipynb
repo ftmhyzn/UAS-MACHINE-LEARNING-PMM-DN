{
 "cells": [
  {
   "cell_type": "markdown",
   "metadata": {},
   "source": [
    "## Soal Nomor 1\n",
    "* Klasifikasi menggunakan Algoritma Naive Bayes\n",
    "* Berapa persen tingkat pembelelian komputer dari Student = Yes dengan tingkat income = Low"
   ]
  },
  {
   "cell_type": "code",
   "execution_count": 1,
   "metadata": {},
   "outputs": [],
   "source": [
    "import pandas as pd\n",
    "import numpy as np\n",
    "import matplotlib.pyplot as plt"
   ]
  },
  {
   "cell_type": "code",
   "execution_count": 2,
   "metadata": {},
   "outputs": [],
   "source": [
    "data = pd.read_csv(\"C:/Users/USER/Desktop/PMM-DN-STIMATA MALANG/UAS/dataset_UAS-main/dataset_UAS-main/dataset_soal No.1.csv\")"
   ]
  },
  {
   "cell_type": "code",
   "execution_count": 3,
   "metadata": {},
   "outputs": [
    {
     "data": {
      "text/html": [
       "<div>\n",
       "<style scoped>\n",
       "    .dataframe tbody tr th:only-of-type {\n",
       "        vertical-align: middle;\n",
       "    }\n",
       "\n",
       "    .dataframe tbody tr th {\n",
       "        vertical-align: top;\n",
       "    }\n",
       "\n",
       "    .dataframe thead th {\n",
       "        text-align: right;\n",
       "    }\n",
       "</style>\n",
       "<table border=\"1\" class=\"dataframe\">\n",
       "  <thead>\n",
       "    <tr style=\"text-align: right;\">\n",
       "      <th></th>\n",
       "      <th>Age</th>\n",
       "      <th>Income</th>\n",
       "      <th>Student</th>\n",
       "      <th>Credit_rating</th>\n",
       "      <th>Clas(buy_computer)</th>\n",
       "    </tr>\n",
       "  </thead>\n",
       "  <tbody>\n",
       "    <tr>\n",
       "      <th>0</th>\n",
       "      <td>&lt;=30</td>\n",
       "      <td>High</td>\n",
       "      <td>No</td>\n",
       "      <td>Fair</td>\n",
       "      <td>No</td>\n",
       "    </tr>\n",
       "    <tr>\n",
       "      <th>1</th>\n",
       "      <td>&lt;=30</td>\n",
       "      <td>High</td>\n",
       "      <td>No</td>\n",
       "      <td>Excellent</td>\n",
       "      <td>No</td>\n",
       "    </tr>\n",
       "    <tr>\n",
       "      <th>2</th>\n",
       "      <td>31.40</td>\n",
       "      <td>High</td>\n",
       "      <td>No</td>\n",
       "      <td>Fair</td>\n",
       "      <td>Yes</td>\n",
       "    </tr>\n",
       "    <tr>\n",
       "      <th>3</th>\n",
       "      <td>&gt;40</td>\n",
       "      <td>Medium</td>\n",
       "      <td>No</td>\n",
       "      <td>Fair</td>\n",
       "      <td>Yes</td>\n",
       "    </tr>\n",
       "    <tr>\n",
       "      <th>4</th>\n",
       "      <td>&gt;40</td>\n",
       "      <td>Low</td>\n",
       "      <td>Yes</td>\n",
       "      <td>Fair</td>\n",
       "      <td>Yes</td>\n",
       "    </tr>\n",
       "  </tbody>\n",
       "</table>\n",
       "</div>"
      ],
      "text/plain": [
       "     Age  Income Student Credit_rating Clas(buy_computer)\n",
       "0   <=30    High      No          Fair                 No\n",
       "1   <=30    High      No     Excellent                 No\n",
       "2  31.40    High      No          Fair                Yes\n",
       "3    >40  Medium      No          Fair                Yes\n",
       "4    >40     Low     Yes          Fair                Yes"
      ]
     },
     "execution_count": 3,
     "metadata": {},
     "output_type": "execute_result"
    }
   ],
   "source": [
    "data.head()"
   ]
  },
  {
   "cell_type": "code",
   "execution_count": 4,
   "metadata": {},
   "outputs": [
    {
     "data": {
      "text/plain": [
       "(51, 5)"
      ]
     },
     "execution_count": 4,
     "metadata": {},
     "output_type": "execute_result"
    }
   ],
   "source": [
    "data.shape"
   ]
  },
  {
   "cell_type": "code",
   "execution_count": 5,
   "metadata": {},
   "outputs": [
    {
     "data": {
      "text/plain": [
       "Yes    29\n",
       "No     22\n",
       "Name: Clas(buy_computer), dtype: int64"
      ]
     },
     "execution_count": 5,
     "metadata": {},
     "output_type": "execute_result"
    }
   ],
   "source": [
    "data['Clas(buy_computer)'].value_counts()"
   ]
  },
  {
   "cell_type": "code",
   "execution_count": 6,
   "metadata": {},
   "outputs": [
    {
     "data": {
      "text/plain": [
       "<=30     20\n",
       ">40      17\n",
       "31.40    14\n",
       "Name: Age, dtype: int64"
      ]
     },
     "execution_count": 6,
     "metadata": {},
     "output_type": "execute_result"
    }
   ],
   "source": [
    "data['Age'].value_counts()"
   ]
  },
  {
   "cell_type": "code",
   "execution_count": 7,
   "metadata": {},
   "outputs": [
    {
     "data": {
      "text/plain": [
       "Low       21\n",
       "Medium    19\n",
       "High      11\n",
       "Name: Income, dtype: int64"
      ]
     },
     "execution_count": 7,
     "metadata": {},
     "output_type": "execute_result"
    }
   ],
   "source": [
    "data['Income'].value_counts()"
   ]
  },
  {
   "cell_type": "code",
   "execution_count": 8,
   "metadata": {},
   "outputs": [
    {
     "data": {
      "text/plain": [
       "Yes    27\n",
       "No     24\n",
       "Name: Student, dtype: int64"
      ]
     },
     "execution_count": 8,
     "metadata": {},
     "output_type": "execute_result"
    }
   ],
   "source": [
    "data['Student'].value_counts()"
   ]
  },
  {
   "cell_type": "code",
   "execution_count": 9,
   "metadata": {},
   "outputs": [
    {
     "data": {
      "text/plain": [
       "Fair         31\n",
       "Excellent    20\n",
       "Name: Credit_rating, dtype: int64"
      ]
     },
     "execution_count": 9,
     "metadata": {},
     "output_type": "execute_result"
    }
   ],
   "source": [
    "data['Credit_rating'].value_counts()"
   ]
  },
  {
   "cell_type": "code",
   "execution_count": 10,
   "metadata": {},
   "outputs": [],
   "source": [
    "PYes = (29/51)\n",
    "PNo = (22/51)"
   ]
  },
  {
   "cell_type": "code",
   "execution_count": 11,
   "metadata": {},
   "outputs": [
    {
     "name": "stdout",
     "output_type": "stream",
     "text": [
      "0.5686274509803921\n"
     ]
    }
   ],
   "source": [
    "print(PYes)"
   ]
  },
  {
   "cell_type": "code",
   "execution_count": 12,
   "metadata": {},
   "outputs": [
    {
     "name": "stdout",
     "output_type": "stream",
     "text": [
      "0.5686274509803921\n"
     ]
    }
   ],
   "source": [
    "print(PYes)"
   ]
  },
  {
   "cell_type": "markdown",
   "metadata": {},
   "source": [
    "## Probabilitas Pertama\n",
    "#### P(A|B) ?  Jika P(A) = Tidak membeli dan P(B) = Umur dengan kategori sedang (<=30 tahun)\n",
    "P(A) = Clas(buy_computer) & P(B) = Age"
   ]
  },
  {
   "cell_type": "code",
   "execution_count": 13,
   "metadata": {},
   "outputs": [
    {
     "data": {
      "text/html": [
       "<div>\n",
       "<style scoped>\n",
       "    .dataframe tbody tr th:only-of-type {\n",
       "        vertical-align: middle;\n",
       "    }\n",
       "\n",
       "    .dataframe tbody tr th {\n",
       "        vertical-align: top;\n",
       "    }\n",
       "\n",
       "    .dataframe thead th {\n",
       "        text-align: right;\n",
       "    }\n",
       "</style>\n",
       "<table border=\"1\" class=\"dataframe\">\n",
       "  <thead>\n",
       "    <tr style=\"text-align: right;\">\n",
       "      <th>Clas(buy_computer)</th>\n",
       "      <th>No</th>\n",
       "      <th>Yes</th>\n",
       "    </tr>\n",
       "    <tr>\n",
       "      <th>Age</th>\n",
       "      <th></th>\n",
       "      <th></th>\n",
       "    </tr>\n",
       "  </thead>\n",
       "  <tbody>\n",
       "    <tr>\n",
       "      <th>31.40</th>\n",
       "      <td>4</td>\n",
       "      <td>10</td>\n",
       "    </tr>\n",
       "    <tr>\n",
       "      <th>&lt;=30</th>\n",
       "      <td>10</td>\n",
       "      <td>10</td>\n",
       "    </tr>\n",
       "    <tr>\n",
       "      <th>&gt;40</th>\n",
       "      <td>8</td>\n",
       "      <td>9</td>\n",
       "    </tr>\n",
       "  </tbody>\n",
       "</table>\n",
       "</div>"
      ],
      "text/plain": [
       "Clas(buy_computer)  No  Yes\n",
       "Age                        \n",
       "31.40                4   10\n",
       "<=30                10   10\n",
       ">40                  8    9"
      ]
     },
     "execution_count": 13,
     "metadata": {},
     "output_type": "execute_result"
    }
   ],
   "source": [
    "pd.crosstab(data['Age'], data['Clas(buy_computer)'])"
   ]
  },
  {
   "cell_type": "code",
   "execution_count": 14,
   "metadata": {},
   "outputs": [],
   "source": [
    "PKecilNo = 4/22\n",
    "PSedangNo = 10/22\n",
    "PBesarNo = 8/22\n",
    "\n",
    "PKecilYes = 10/29\n",
    "PSedangYes = 10/29\n",
    "PBesarYes = 9/29\n",
    "\n",
    "PKecil = 14/51\n",
    "PSedang = 20/51\n",
    "PBesar = 17/51"
   ]
  },
  {
   "cell_type": "code",
   "execution_count": 15,
   "metadata": {},
   "outputs": [
    {
     "name": "stdout",
     "output_type": "stream",
     "text": [
      "0.5\n"
     ]
    }
   ],
   "source": [
    "#Perhitungan probabilitas yang tidak membeli komputer dengan umur <=30 tahun\n",
    "PNoSedang = (PSedangNo * PNo) / PSedang\n",
    "print(PNoSedang)"
   ]
  },
  {
   "cell_type": "code",
   "execution_count": 16,
   "metadata": {},
   "outputs": [
    {
     "name": "stdout",
     "output_type": "stream",
     "text": [
      "0.5\n"
     ]
    }
   ],
   "source": [
    "##Perhitungan probabilitas yang membeli komputer dengan umur <=30 tahun\n",
    "PYesSedang = (PSedangYes * PYes) / PSedang\n",
    "print(PYesSedang)"
   ]
  },
  {
   "cell_type": "markdown",
   "metadata": {},
   "source": [
    "### Conclusion 1\n",
    "Probabilitas (Pembelian komputer | Umur <=30 tahun) sebanding dengan probalilitas (Pembelian komputer | Umur <=30 tahun)"
   ]
  },
  {
   "cell_type": "code",
   "execution_count": 17,
   "metadata": {},
   "outputs": [
    {
     "name": "stdout",
     "output_type": "stream",
     "text": [
      "0.5\n",
      "0.5\n"
     ]
    }
   ],
   "source": [
    "print(PNoSedang)\n",
    "print(PYesSedang)"
   ]
  },
  {
   "cell_type": "markdown",
   "metadata": {},
   "source": [
    "## Probabilitas Kedua\n",
    "#### P(A |  B) = P(Clas(buy_computer) | Age Sedang, Income Low, Student Yes)\n",
    "Dimana\n",
    "* P(A) adalah Clas(buy_computer) / yang membeli komputer\n",
    "* P(B) adalah Age = sedang ; Income = Low ; Student = Yes"
   ]
  },
  {
   "cell_type": "code",
   "execution_count": 18,
   "metadata": {},
   "outputs": [
    {
     "data": {
      "text/html": [
       "<div>\n",
       "<style scoped>\n",
       "    .dataframe tbody tr th:only-of-type {\n",
       "        vertical-align: middle;\n",
       "    }\n",
       "\n",
       "    .dataframe tbody tr th {\n",
       "        vertical-align: top;\n",
       "    }\n",
       "\n",
       "    .dataframe thead th {\n",
       "        text-align: right;\n",
       "    }\n",
       "</style>\n",
       "<table border=\"1\" class=\"dataframe\">\n",
       "  <thead>\n",
       "    <tr style=\"text-align: right;\">\n",
       "      <th>Clas(buy_computer)</th>\n",
       "      <th>No</th>\n",
       "      <th>Yes</th>\n",
       "    </tr>\n",
       "    <tr>\n",
       "      <th>Income</th>\n",
       "      <th></th>\n",
       "      <th></th>\n",
       "    </tr>\n",
       "  </thead>\n",
       "  <tbody>\n",
       "    <tr>\n",
       "      <th>High</th>\n",
       "      <td>6</td>\n",
       "      <td>5</td>\n",
       "    </tr>\n",
       "    <tr>\n",
       "      <th>Low</th>\n",
       "      <td>11</td>\n",
       "      <td>10</td>\n",
       "    </tr>\n",
       "    <tr>\n",
       "      <th>Medium</th>\n",
       "      <td>5</td>\n",
       "      <td>14</td>\n",
       "    </tr>\n",
       "  </tbody>\n",
       "</table>\n",
       "</div>"
      ],
      "text/plain": [
       "Clas(buy_computer)  No  Yes\n",
       "Income                     \n",
       "High                 6    5\n",
       "Low                 11   10\n",
       "Medium               5   14"
      ]
     },
     "execution_count": 18,
     "metadata": {},
     "output_type": "execute_result"
    }
   ],
   "source": [
    "pd.crosstab(data['Income'], data['Clas(buy_computer)'])"
   ]
  },
  {
   "cell_type": "code",
   "execution_count": 19,
   "metadata": {},
   "outputs": [],
   "source": [
    "PHigIncomehNo = 6/22\n",
    "PLowIncomeNo = 11/22\n",
    "PMediumIncomeNo = 5/22\n",
    "\n",
    "PHighIncomeYes = 5/29\n",
    "PLowIncomeYes = 10/29\n",
    "PMediumIncomeYes = 14/2\n",
    "\n",
    "PHighIncome = 11/51\n",
    "PLowIncome = 21/51\n",
    "PMediumIncome = 19/51"
   ]
  },
  {
   "cell_type": "code",
   "execution_count": 20,
   "metadata": {},
   "outputs": [
    {
     "data": {
      "text/html": [
       "<div>\n",
       "<style scoped>\n",
       "    .dataframe tbody tr th:only-of-type {\n",
       "        vertical-align: middle;\n",
       "    }\n",
       "\n",
       "    .dataframe tbody tr th {\n",
       "        vertical-align: top;\n",
       "    }\n",
       "\n",
       "    .dataframe thead th {\n",
       "        text-align: right;\n",
       "    }\n",
       "</style>\n",
       "<table border=\"1\" class=\"dataframe\">\n",
       "  <thead>\n",
       "    <tr style=\"text-align: right;\">\n",
       "      <th>Clas(buy_computer)</th>\n",
       "      <th>No</th>\n",
       "      <th>Yes</th>\n",
       "    </tr>\n",
       "    <tr>\n",
       "      <th>Student</th>\n",
       "      <th></th>\n",
       "      <th></th>\n",
       "    </tr>\n",
       "  </thead>\n",
       "  <tbody>\n",
       "    <tr>\n",
       "      <th>No</th>\n",
       "      <td>10</td>\n",
       "      <td>14</td>\n",
       "    </tr>\n",
       "    <tr>\n",
       "      <th>Yes</th>\n",
       "      <td>12</td>\n",
       "      <td>15</td>\n",
       "    </tr>\n",
       "  </tbody>\n",
       "</table>\n",
       "</div>"
      ],
      "text/plain": [
       "Clas(buy_computer)  No  Yes\n",
       "Student                    \n",
       "No                  10   14\n",
       "Yes                 12   15"
      ]
     },
     "execution_count": 20,
     "metadata": {},
     "output_type": "execute_result"
    }
   ],
   "source": [
    "pd.crosstab(data['Student'], data['Clas(buy_computer)'])"
   ]
  },
  {
   "cell_type": "code",
   "execution_count": 21,
   "metadata": {},
   "outputs": [],
   "source": [
    "PNoStudentNo = 10/22\n",
    "PYesStudentNo = 12/22\n",
    "\n",
    "PNoStudentYes = 12/29\n",
    "PYesStudentYes = 15/29\n",
    "\n",
    "PNoStudent = 24/51\n",
    "PYesStudent = 27/51"
   ]
  },
  {
   "cell_type": "code",
   "execution_count": 22,
   "metadata": {},
   "outputs": [],
   "source": [
    "#P(A) = Clas(buy_computer)  = Buy = PYes\n",
    "\n",
    "#Kondisi B Dimana\n",
    "#Age = Sedang\n",
    "#Income = Low\n",
    "#Student = Yes\n",
    "#P(B) = PSedang, PLow, PYesStudent\n",
    "\n",
    "#P(B)1 = PSedang\n",
    "#P(B)2 = PLow\n",
    "#P(B)3 = PYesDStudent\n",
    "\n",
    "#P(B|A)1 = (PSedang | Buy) = PSedangYes\n",
    "#P(B|A)2 = (PLow | Buy) = PLowIncomeYes\n",
    "#P(B|A)3 = (PYesStudent | Buy) = PYesStudentYes\n",
    "\n",
    "\n",
    "#Yang ditanyakan P(A|B) ?\n",
    "#Rumus\n",
    "#P(A|B) = P(B|A) * P(A) / P(B)\n",
    "#P(YesBuy) = ((PSedangYes * PLowIncomeYes * PYesStudentYes) * PYes) / (PSedangYes * PLowIncomeYes * PYesStudentYes)"
   ]
  },
  {
   "cell_type": "code",
   "execution_count": 23,
   "metadata": {},
   "outputs": [
    {
     "name": "stdout",
     "output_type": "stream",
     "text": [
      "0.5686274509803921\n"
     ]
    }
   ],
   "source": [
    "#Probabilitas ClasYes dengan StudentYes, IncomeLow dan AgeKecil\n",
    "PYesBuyA = ((PKecilYes * PLowIncomeYes * PYesStudentYes) * PYes) / (PKecilYes * PLowIncomeYes * PYesStudentYes)\n",
    "print(PYesBuyA)"
   ]
  },
  {
   "cell_type": "code",
   "execution_count": 24,
   "metadata": {},
   "outputs": [
    {
     "name": "stdout",
     "output_type": "stream",
     "text": [
      "0.5686274509803921\n"
     ]
    }
   ],
   "source": [
    "#Probabilitas ClasYes dengan StudentYes, IncomeLow dan AgeSedang\n",
    "PYesBuyB = ((PSedangYes * PLowIncomeYes * PYesStudentYes) * PYes) / (PSedangYes * PLowIncomeYes * PYesStudentYes)\n",
    "print(PYesBuyB)"
   ]
  },
  {
   "cell_type": "code",
   "execution_count": 25,
   "metadata": {},
   "outputs": [
    {
     "name": "stdout",
     "output_type": "stream",
     "text": [
      "0.5686274509803921\n"
     ]
    }
   ],
   "source": [
    "#Probabilitas ClasYes dengan StudentYes, IncomeLow dan AgeBesar\n",
    "PYesBuyC = ((PBesarYes * PLowIncomeYes * PYesStudentYes) * PYes) / (PBesarYes * PLowIncomeYes * PYesStudentYes)\n",
    "print(PYesBuyC)"
   ]
  },
  {
   "cell_type": "code",
   "execution_count": 26,
   "metadata": {},
   "outputs": [],
   "source": [
    "#P(A) = Clas(buy_computer)  = NoBuy = PNo\n",
    "\n",
    "#Kondisi B Dimana\n",
    "#Age = Sedang\n",
    "#Income = Low\n",
    "#Student = Yes\n",
    "#P(B) = PSedang, PLow, PYesStudent\n",
    "\n",
    "#P(B)1 = PSedang\n",
    "#P(B)2 = PLow\n",
    "#P(B)3 = PYesDStudent\n",
    "\n",
    "#P(B|A)1 = (PSedang | NoBuy) = PSedangNo\n",
    "#P(B|A)2 = (PLow | NoBuy) = PLowIncomeNo\n",
    "#P(B|A)3 = (PYesStudent | NoBuy) = PYesStudentNo\n",
    "\n",
    "\n",
    "#Yang ditanyakan P(A|B) ?\n",
    "#Rumus\n",
    "#P(A|B) = P(B|A) * P(A) / P(B)\n",
    "#P(NoBuy) = ((PSedangNo * PLowIncomeNo * PYesStudentNo) * PNo) / (PSedangNo * PLowIncomeNo * PYesStudentNo)"
   ]
  },
  {
   "cell_type": "code",
   "execution_count": 27,
   "metadata": {},
   "outputs": [
    {
     "name": "stdout",
     "output_type": "stream",
     "text": [
      "0.43137254901960786\n"
     ]
    }
   ],
   "source": [
    "PNoBuy = ((PSedangNo * PLowIncomeNo * PYesStudentNo) * PNo) / (PSedangNo * PLowIncomeNo * PYesStudentNo)\n",
    "print(PNoBuy)"
   ]
  },
  {
   "cell_type": "markdown",
   "metadata": {},
   "source": [
    "### Coclusion II\n",
    "* Probability of Clas(buy_computer) = 0.5686274509803921\n",
    "* Probability of no Clas(buy_computer) = 0.43137254901960786\n"
   ]
  },
  {
   "cell_type": "markdown",
   "metadata": {},
   "source": [
    "## Result "
   ]
  },
  {
   "cell_type": "code",
   "execution_count": 28,
   "metadata": {},
   "outputs": [
    {
     "name": "stdout",
     "output_type": "stream",
     "text": [
      "1.0\n"
     ]
    }
   ],
   "source": [
    "PSum = PYesBuyB + PNoBuy\n",
    "print(PSum)"
   ]
  },
  {
   "cell_type": "code",
   "execution_count": 29,
   "metadata": {},
   "outputs": [
    {
     "name": "stdout",
     "output_type": "stream",
     "text": [
      "56.86274509803921\n"
     ]
    }
   ],
   "source": [
    "PBuy1 = (PYesBuyB / PSum) * 100\n",
    "print(PBuy1)"
   ]
  },
  {
   "cell_type": "code",
   "execution_count": 30,
   "metadata": {},
   "outputs": [
    {
     "name": "stdout",
     "output_type": "stream",
     "text": [
      "43.13725490196079\n"
     ]
    }
   ],
   "source": [
    "PNoBuy1 = (PNoBuy / PSum) * 100\n",
    "print(PNoBuy1)"
   ]
  },
  {
   "cell_type": "markdown",
   "metadata": {},
   "source": [
    "## Jawaban\n",
    "* Berapa persen tingkat pembelelian komputer dari Student = Yes dengan tingkat income = Low ?\n",
    "* Jawabannya adalah 56% (didapat dari PBuy1)"
   ]
  }
 ],
 "metadata": {
  "kernelspec": {
   "display_name": "Python 3",
   "language": "python",
   "name": "python3"
  },
  "language_info": {
   "codemirror_mode": {
    "name": "ipython",
    "version": 3
   },
   "file_extension": ".py",
   "mimetype": "text/x-python",
   "name": "python",
   "nbconvert_exporter": "python",
   "pygments_lexer": "ipython3",
   "version": "3.7.9"
  }
 },
 "nbformat": 4,
 "nbformat_minor": 4
}
